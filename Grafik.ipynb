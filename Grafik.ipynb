!pip install pulp
!sudo apt-get install coinor-cbc glpk-utils coinor-clp
from pulp import *

import xlwt
import pandas as pd
import pulp

# Dane
DniTygodnia = [ 'pn', 'wt', 'śr', 'cz', 'pt']
MinIlPrac = { 'pn': 2, 'wt': 1, 'śr': 1, 'cz': 1, 'pt': 3 }
Pracownicy = ['Ania', 'Stefan', 'Hektor', 'Olaf', 'Lidia', 'Piotr']
DostepPrac = { 'Ania': { 'pn': 1, 'wt': 1, 'śr': 1, 'cz': 1, 'pt': 1},
              'Stefan': { 'pn': 1, 'wt': 0, 'śr': 0, 'cz': 0, 'pt': 0},
              'Hektor': { 'pn': 1, 'wt': 1, 'śr': 1, 'cz': 0, 'pt': 0},
              'Olaf': { 'pn': 1, 'wt': 1, 'śr': 1, 'cz': 1, 'pt': 1},
              'Lidia': { 'pn': 0, 'wt': 0, 'śr': 0, 'cz': 1, 'pt': 1},
              'Piotr': { 'pn': 1, 'wt': 1, 'śr': 1, 'cz': 0, 'pt': 0}}
StawkaPrac = { 'Ania': 100,
              'Stefan': 50,
              'Hektor': 60,
              'Olaf': 40,
              'Lidia': 110,
              'Piotr': 70 }
MaxCzasPracy = { 'Ania': 3,
              'Stefan': 3,
              'Hektor': 3,
              'Olaf': 3,
              'Lidia': 3,
              'Piotr': 3}
			  
with pd.ExcelWriter('SklepGrafikDane.xlsx', mode='w') as plikArkusza:
  pd.DataFrame(DostepPrac).transpose().to_excel(plikArkusza, sheet_name='DostepPracownikow')
  pd.DataFrame(MinIlPrac, index=range(1)).transpose().to_excel(plikArkusza, sheet_name='WymogiObslugi')
  pd.DataFrame(StawkaPrac, index=range(1)).transpose().to_excel(plikArkusza, sheet_name='StawkiPracownikow')
  pd.DataFrame(MaxCzasPracy, index=range(1)).transpose().to_excel(plikArkusza, sheet_name='LimitCzasuPracy')
  
def sumaPensji(pracownicy, stawki):
    return sum(stawki[p] for p in pracownicy)
	
ArkWymogi = pd.read_excel("SklepGrafikDane.xlsx", "WymogiObslugi", index_col=0)
ArkPlace = pd.read_excel("SklepGrafikDane.xlsx", "StawkiPracownikow", index_col=0)
ArkDostep = pd.read_excel("SklepGrafikDane.xlsx", "DostepPracownikow", index_col=0)
ArkCzasPracy = pd.read_excel("SklepGrafikDane.xlsx", "LimitCzasuPracy", index_col=0)

Pracownicy = ArkDostep.index
DniTygodnia = ArkWymogi.index
WymogiObslugi = {d: ArkWymogi[0][d] for d in DniTygodnia}
LimitCzasuPracy = {p: ArkCzasPracy[0][p] for p in Pracownicy}
Place = {p: ArkPlace[0][p] for p in Pracownicy}
Dostepnosc = {p: {d: ArkDostep[d][p] for d in DniTygodnia} for p in Pracownicy}

MozliweGrafiki = [[c for c in pulp.allcombinations(Pracownicy, WymogiObslugi[d])
                      if len(c) >= WymogiObslugi[d]] for d in DniTygodnia]

ListaWyboru = [pulp.LpVariable.dicts('grafik_' + d, MozliweGrafiki[nd],
                                     lowBound = 0, upBound = 1,
                                     cat = pulp.LpInteger)
                for nd, d in enumerate(DniTygodnia)]

ProblemGrafiku = LpProblem("Grafik_sklepowy", LpMinimize)

ProblemGrafiku += lpSum([lpSum([ListaWyboru[nd][g] * sumaPensji(g, Place) for g in MozliweGrafiki[nd]]) for nd, d in enumerate(DniTygodnia)])

for p in Pracownicy:
    ProblemGrafiku += lpSum([
         [ListaWyboru[nd][g] * g.count(p) for g in MozliweGrafiki[nd]]
          for nd, d in enumerate(DniTygodnia)]) <= LimitCzasuPracy[p]

    for nd, d in enumerate(DniTygodnia):
      for g in MozliweGrafiki[nd]:
        if p in g:
          ProblemGrafiku += ListaWyboru[nd][g] <= Dostepnosc[p][d]

for nd, d in enumerate(DniTygodnia):
    ProblemGrafiku += lpSum(ListaWyboru[nd]) == 1

ProblemGrafiku.solve()

Grafik = [[None] * max([WymogiObslugi[dni] for dni in DniTygodnia]) for d in DniTygodnia]

for nd, d in enumerate(DniTygodnia):
    for g in MozliweGrafiki[nd]:
        if ListaWyboru[nd][g].value() == 1:
            Grafik[nd] = g

RamkaGrafiku = pd.DataFrame(Grafik,
                            index=DniTygodnia,
                            columns=range(1, max(WymogiObslugi.values()) + 1)
                            ).transpose()

with pd.ExcelWriter('SklepGrafikDane.xlsx', mode='a') as plikArkusza:
    RamkaGrafiku.to_excel(plikArkusza, sheet_name='Grafik')

print(RamkaGrafiku)