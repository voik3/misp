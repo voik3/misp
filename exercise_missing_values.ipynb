{
  "nbformat": 4,
  "nbformat_minor": 0,
  "metadata": {
    "kernelspec": {
      "display_name": "Python 3",
      "language": "python",
      "name": "python3"
    },
    "language_info": {
      "codemirror_mode": {
        "name": "ipython",
        "version": 3
      },
      "file_extension": ".py",
      "mimetype": "text/x-python",
      "name": "python",
      "nbconvert_exporter": "python",
      "pygments_lexer": "ipython3",
      "version": "3.7.6"
    },
    "papermill": {
      "duration": 13.802142,
      "end_time": "2020-12-08T15:07:24.790343",
      "environment_variables": {},
      "exception": null,
      "input_path": "__notebook__.ipynb",
      "output_path": "__notebook__.ipynb",
      "parameters": {},
      "start_time": "2020-12-08T15:07:10.988201",
      "version": "2.1.0"
    },
    "colab": {
      "name": "asd.ipynb",
      "provenance": [],
      "collapsed_sections": []
    }
  },
  "cells": [
    {
      "cell_type": "markdown",
      "metadata": {
        "papermill": {
          "duration": 0.024318,
          "end_time": "2020-12-08T15:07:15.345066",
          "exception": false,
          "start_time": "2020-12-08T15:07:15.320748",
          "status": "completed"
        },
        "tags": [],
        "id": "X-VfHbhO58l3"
      },
      "source": [
        "**This notebook is an exercise in the [Intermediate Machine Learning](https://www.kaggle.com/learn/intermediate-machine-learning) course.  You can reference the tutorial at [this link](https://www.kaggle.com/alexisbcook/missing-values).**\n",
        "\n",
        "---\n"
      ]
    },
    {
      "cell_type": "markdown",
      "metadata": {
        "papermill": {
          "duration": 0.023655,
          "end_time": "2020-12-08T15:07:15.392370",
          "exception": false,
          "start_time": "2020-12-08T15:07:15.368715",
          "status": "completed"
        },
        "tags": [],
        "id": "Rr252gin58l4"
      },
      "source": [
        "Now it's your turn to test your new knowledge of **missing values** handling. You'll probably find it makes a big difference.\n",
        "\n",
        "# Setup\n",
        "\n",
        "The questions will give you feedback on your work. Run the following cell to set up the feedback system."
      ]
    },
    {
      "cell_type": "code",
      "metadata": {
        "execution": {
          "iopub.execute_input": "2020-12-08T15:07:15.445569Z",
          "iopub.status.busy": "2020-12-08T15:07:15.444904Z",
          "iopub.status.idle": "2020-12-08T15:07:15.490306Z",
          "shell.execute_reply": "2020-12-08T15:07:15.489743Z"
        },
        "papermill": {
          "duration": 0.074695,
          "end_time": "2020-12-08T15:07:15.490418",
          "exception": false,
          "start_time": "2020-12-08T15:07:15.415723",
          "status": "completed"
        },
        "tags": [],
        "id": "9rbSM34c58l5"
      },
      "source": [
        "# Set up code checking\n",
        "import os\n",
        "if not os.path.exists(\"../input/train.csv\"):\n",
        "    os.symlink(\"../input/home-data-for-ml-course/train.csv\", \"../input/train.csv\")  \n",
        "    os.symlink(\"../input/home-data-for-ml-course/test.csv\", \"../input/test.csv\") \n",
        "from learntools.core import binder\n",
        "binder.bind(globals())\n",
        "from learntools.ml_intermediate.ex2 import *\n",
        "print(\"Setup Complete\")"
      ],
      "execution_count": null,
      "outputs": []
    },
    {
      "cell_type": "markdown",
      "metadata": {
        "papermill": {
          "duration": 0.023807,
          "end_time": "2020-12-08T15:07:15.538838",
          "exception": false,
          "start_time": "2020-12-08T15:07:15.515031",
          "status": "completed"
        },
        "tags": [],
        "id": "Dg2ZIeEy58l8"
      },
      "source": [
        "In this exercise, you will work with data from the [Housing Prices Competition for Kaggle Learn Users](https://www.kaggle.com/c/home-data-for-ml-course). \n",
        "\n",
        "![Ames Housing dataset image](https://i.imgur.com/lTJVG4e.png)\n",
        "\n",
        "Run the next code cell without changes to load the training and validation sets in `X_train`, `X_valid`, `y_train`, and `y_valid`.  The test set is loaded in `X_test`."
      ]
    },
    {
      "cell_type": "code",
      "metadata": {
        "execution": {
          "iopub.execute_input": "2020-12-08T15:07:15.589639Z",
          "iopub.status.busy": "2020-12-08T15:07:15.588840Z",
          "iopub.status.idle": "2020-12-08T15:07:16.605361Z",
          "shell.execute_reply": "2020-12-08T15:07:16.605912Z"
        },
        "papermill": {
          "duration": 1.04325,
          "end_time": "2020-12-08T15:07:16.606058",
          "exception": false,
          "start_time": "2020-12-08T15:07:15.562808",
          "status": "completed"
        },
        "tags": [],
        "id": "VpRfhz2N58l8"
      },
      "source": [
        "import pandas as pd\n",
        "from sklearn.model_selection import train_test_split\n",
        "\n",
        "# Read the data\n",
        "X_full = pd.read_csv('../input/train.csv', index_col='Id')\n",
        "X_test_full = pd.read_csv('../input/test.csv', index_col='Id')\n",
        "\n",
        "# Remove rows with missing target, separate target from predictors\n",
        "X_full.dropna(axis=0, subset=['SalePrice'], inplace=True)\n",
        "y = X_full.SalePrice\n",
        "X_full.drop(['SalePrice'], axis=1, inplace=True)\n",
        "\n",
        "# To keep things simple, we'll use only numerical predictors\n",
        "X = X_full.select_dtypes(exclude=['object'])\n",
        "X_test = X_test_full.select_dtypes(exclude=['object'])\n",
        "\n",
        "# Break off validation set from training data\n",
        "X_train, X_valid, y_train, y_valid = train_test_split(X, y, train_size=0.8, test_size=0.2,\n",
        "                                                      random_state=0)"
      ],
      "execution_count": null,
      "outputs": []
    },
    {
      "cell_type": "markdown",
      "metadata": {
        "papermill": {
          "duration": 0.023652,
          "end_time": "2020-12-08T15:07:16.654044",
          "exception": false,
          "start_time": "2020-12-08T15:07:16.630392",
          "status": "completed"
        },
        "tags": [],
        "id": "XYRbv8W058l8"
      },
      "source": [
        "Use the next code cell to print the first five rows of the data."
      ]
    },
    {
      "cell_type": "code",
      "metadata": {
        "execution": {
          "iopub.execute_input": "2020-12-08T15:07:16.705235Z",
          "iopub.status.busy": "2020-12-08T15:07:16.704644Z",
          "iopub.status.idle": "2020-12-08T15:07:16.730443Z",
          "shell.execute_reply": "2020-12-08T15:07:16.731006Z"
        },
        "papermill": {
          "duration": 0.053053,
          "end_time": "2020-12-08T15:07:16.731139",
          "exception": false,
          "start_time": "2020-12-08T15:07:16.678086",
          "status": "completed"
        },
        "tags": [],
        "id": "Au7ZjFvZ58l8"
      },
      "source": [
        "X_train.head()"
      ],
      "execution_count": null,
      "outputs": []
    },
    {
      "cell_type": "markdown",
      "metadata": {
        "papermill": {
          "duration": 0.024419,
          "end_time": "2020-12-08T15:07:16.780362",
          "exception": false,
          "start_time": "2020-12-08T15:07:16.755943",
          "status": "completed"
        },
        "tags": [],
        "id": "fFrp8sIc58l8"
      },
      "source": [
        "You can already see a few missing values in the first several rows.  In the next step, you'll obtain a more comprehensive understanding of the missing values in the dataset.\n",
        "\n",
        "# Step 1: Preliminary investigation\n",
        "\n",
        "Run the code cell below without changes."
      ]
    },
    {
      "cell_type": "code",
      "metadata": {
        "execution": {
          "iopub.execute_input": "2020-12-08T15:07:16.833346Z",
          "iopub.status.busy": "2020-12-08T15:07:16.832741Z",
          "iopub.status.idle": "2020-12-08T15:07:16.841954Z",
          "shell.execute_reply": "2020-12-08T15:07:16.841330Z"
        },
        "papermill": {
          "duration": 0.036798,
          "end_time": "2020-12-08T15:07:16.842057",
          "exception": false,
          "start_time": "2020-12-08T15:07:16.805259",
          "status": "completed"
        },
        "tags": [],
        "id": "ZrzeRC2M58l9"
      },
      "source": [
        "# Shape of training data (num_rows, num_columns)\n",
        "print(X_train.shape)\n",
        "\n",
        "# Number of missing values in each column of training data\n",
        "missing_val_count_by_column = (X_train.isnull().sum())\n",
        "print(missing_val_count_by_column[missing_val_count_by_column > 0])"
      ],
      "execution_count": null,
      "outputs": []
    },
    {
      "cell_type": "markdown",
      "metadata": {
        "papermill": {
          "duration": 0.025114,
          "end_time": "2020-12-08T15:07:16.892759",
          "exception": false,
          "start_time": "2020-12-08T15:07:16.867645",
          "status": "completed"
        },
        "tags": [],
        "id": "EdjVtpt958l9"
      },
      "source": [
        "### Part A\n",
        "\n",
        "Use the above output to answer the questions below."
      ]
    },
    {
      "cell_type": "code",
      "metadata": {
        "execution": {
          "iopub.execute_input": "2020-12-08T15:07:16.977403Z",
          "iopub.status.busy": "2020-12-08T15:07:16.976512Z",
          "iopub.status.idle": "2020-12-08T15:07:16.989952Z",
          "shell.execute_reply": "2020-12-08T15:07:16.988988Z"
        },
        "papermill": {
          "duration": 0.071343,
          "end_time": "2020-12-08T15:07:16.990057",
          "exception": false,
          "start_time": "2020-12-08T15:07:16.918714",
          "status": "completed"
        },
        "tags": [],
        "id": "Y0vo8G6o58l9"
      },
      "source": [
        "# Fill in the line below: How many rows are in the training data?\n",
        "num_rows = X_train.shape[0]\n",
        "\n",
        "# Fill in the line below: How many columns in the training data\n",
        "# have missing values?\n",
        "num_cols_with_missing = len([col for col in X_train.columns\n",
        "                              if X_train[col].isnull().any()])\n",
        "# Fill in the line below: How many missing entries are contained in \n",
        "# all of the training data?\n",
        "tot_missing = sum([X_train[col].isnull().sum() for col in X_train.columns])\n",
        "\n",
        "print(\"Rows: {}\".format(num_rows))\n",
        "print(\"Incomplet columns: {}\".format(num_cols_with_missing))\n",
        "print(\"Total missing values: {}\".format(tot_missing))\n",
        "\n",
        "# Check your answers\n",
        "step_1.a.check()"
      ],
      "execution_count": null,
      "outputs": []
    },
    {
      "cell_type": "code",
      "metadata": {
        "execution": {
          "iopub.execute_input": "2020-12-08T15:07:17.060253Z",
          "iopub.status.busy": "2020-12-08T15:07:17.059414Z",
          "iopub.status.idle": "2020-12-08T15:07:17.062824Z",
          "shell.execute_reply": "2020-12-08T15:07:17.062014Z"
        },
        "papermill": {
          "duration": 0.045642,
          "end_time": "2020-12-08T15:07:17.062939",
          "exception": false,
          "start_time": "2020-12-08T15:07:17.017297",
          "status": "completed"
        },
        "tags": [],
        "id": "N4bcQzZL58l9"
      },
      "source": [
        "# Lines below will give you a hint or solution code\n",
        "#step_1.a.hint()\n",
        "#step_1.a.solution()"
      ],
      "execution_count": null,
      "outputs": []
    },
    {
      "cell_type": "markdown",
      "metadata": {
        "papermill": {
          "duration": 0.040767,
          "end_time": "2020-12-08T15:07:17.144707",
          "exception": false,
          "start_time": "2020-12-08T15:07:17.103940",
          "status": "completed"
        },
        "tags": [],
        "id": "7oovQWUZ58l9"
      },
      "source": [
        "### Part B\n",
        "Considering your answers above, what do you think is likely the best approach to dealing with the missing values?"
      ]
    },
    {
      "cell_type": "code",
      "metadata": {
        "execution": {
          "iopub.execute_input": "2020-12-08T15:07:17.229742Z",
          "iopub.status.busy": "2020-12-08T15:07:17.228777Z",
          "iopub.status.idle": "2020-12-08T15:07:17.237987Z",
          "shell.execute_reply": "2020-12-08T15:07:17.237361Z"
        },
        "papermill": {
          "duration": 0.052858,
          "end_time": "2020-12-08T15:07:17.238094",
          "exception": false,
          "start_time": "2020-12-08T15:07:17.185236",
          "status": "completed"
        },
        "tags": [],
        "id": "dhSgQE3758l9"
      },
      "source": [
        "# Check your answer (Run this code cell to receive credit!)\n",
        "step_1.b.check()"
      ],
      "execution_count": null,
      "outputs": []
    },
    {
      "cell_type": "code",
      "metadata": {
        "execution": {
          "iopub.execute_input": "2020-12-08T15:07:17.300878Z",
          "iopub.status.busy": "2020-12-08T15:07:17.300135Z",
          "iopub.status.idle": "2020-12-08T15:07:17.303928Z",
          "shell.execute_reply": "2020-12-08T15:07:17.303308Z"
        },
        "papermill": {
          "duration": 0.037007,
          "end_time": "2020-12-08T15:07:17.304029",
          "exception": false,
          "start_time": "2020-12-08T15:07:17.267022",
          "status": "completed"
        },
        "tags": [],
        "id": "Dk2lRoFn58l-"
      },
      "source": [
        "#step_1.b.hint()"
      ],
      "execution_count": null,
      "outputs": []
    },
    {
      "cell_type": "markdown",
      "metadata": {
        "papermill": {
          "duration": 0.029266,
          "end_time": "2020-12-08T15:07:17.362718",
          "exception": false,
          "start_time": "2020-12-08T15:07:17.333452",
          "status": "completed"
        },
        "tags": [],
        "id": "d7T7kJ6k58l-"
      },
      "source": [
        "To compare different approaches to dealing with missing values, you'll use the same `score_dataset()` function from the tutorial.  This function reports the [mean absolute error](https://en.wikipedia.org/wiki/Mean_absolute_error) (MAE) from a random forest model."
      ]
    },
    {
      "cell_type": "code",
      "metadata": {
        "execution": {
          "iopub.execute_input": "2020-12-08T15:07:17.427919Z",
          "iopub.status.busy": "2020-12-08T15:07:17.427256Z",
          "iopub.status.idle": "2020-12-08T15:07:17.603974Z",
          "shell.execute_reply": "2020-12-08T15:07:17.604497Z"
        },
        "papermill": {
          "duration": 0.213297,
          "end_time": "2020-12-08T15:07:17.604682",
          "exception": false,
          "start_time": "2020-12-08T15:07:17.391385",
          "status": "completed"
        },
        "tags": [],
        "id": "Hkx5TwFt58l-"
      },
      "source": [
        "from sklearn.ensemble import RandomForestRegressor\n",
        "from sklearn.metrics import mean_absolute_error\n",
        "\n",
        "# Function for comparing different approaches\n",
        "def score_dataset(X_train, X_valid, y_train, y_valid):\n",
        "    model = RandomForestRegressor(n_estimators=100, random_state=0)\n",
        "    model.fit(X_train, y_train)\n",
        "    preds = model.predict(X_valid)\n",
        "    return mean_absolute_error(y_valid, preds)"
      ],
      "execution_count": null,
      "outputs": []
    },
    {
      "cell_type": "markdown",
      "metadata": {
        "papermill": {
          "duration": 0.028771,
          "end_time": "2020-12-08T15:07:17.662811",
          "exception": false,
          "start_time": "2020-12-08T15:07:17.634040",
          "status": "completed"
        },
        "tags": [],
        "id": "J-AkppHp58l-"
      },
      "source": [
        "# Step 2: Drop columns with missing values\n",
        "\n",
        "In this step, you'll preprocess the data in `X_train` and `X_valid` to remove columns with missing values.  Set the preprocessed DataFrames to `reduced_X_train` and `reduced_X_valid`, respectively.  "
      ]
    },
    {
      "cell_type": "code",
      "metadata": {
        "execution": {
          "iopub.execute_input": "2020-12-08T15:07:17.761278Z",
          "iopub.status.busy": "2020-12-08T15:07:17.760425Z",
          "iopub.status.idle": "2020-12-08T15:07:17.767315Z",
          "shell.execute_reply": "2020-12-08T15:07:17.766501Z"
        },
        "papermill": {
          "duration": 0.075213,
          "end_time": "2020-12-08T15:07:17.767437",
          "exception": false,
          "start_time": "2020-12-08T15:07:17.692224",
          "status": "completed"
        },
        "tags": [],
        "id": "UukFu5eS58l-"
      },
      "source": [
        "# Fill in the line below: get names of columns with missing values\n",
        "missing_cols = [col for col in X\n",
        "                     if X[col].isnull().any()]\n",
        "# Your code here\n",
        "\n",
        "# Fill in the lines below: drop columns in training and validation data\n",
        "reduced_X_train = X_train.drop(missing_cols, axis=1)\n",
        "reduced_X_valid = X_valid.drop(missing_cols, axis=1)\n",
        "\n",
        "# Check your answers\n",
        "step_2.check()"
      ],
      "execution_count": null,
      "outputs": []
    },
    {
      "cell_type": "code",
      "metadata": {
        "execution": {
          "iopub.execute_input": "2020-12-08T15:07:17.863412Z",
          "iopub.status.busy": "2020-12-08T15:07:17.862573Z",
          "iopub.status.idle": "2020-12-08T15:07:17.864222Z",
          "shell.execute_reply": "2020-12-08T15:07:17.865028Z"
        },
        "papermill": {
          "duration": 0.052159,
          "end_time": "2020-12-08T15:07:17.865207",
          "exception": false,
          "start_time": "2020-12-08T15:07:17.813048",
          "status": "completed"
        },
        "tags": [],
        "id": "oTqpew4e58l-"
      },
      "source": [
        "# Lines below will give you a hint or solution code\n",
        "#step_2.hint()\n",
        "#step_2.solution()"
      ],
      "execution_count": null,
      "outputs": []
    },
    {
      "cell_type": "markdown",
      "metadata": {
        "papermill": {
          "duration": 0.045009,
          "end_time": "2020-12-08T15:07:17.956231",
          "exception": false,
          "start_time": "2020-12-08T15:07:17.911222",
          "status": "completed"
        },
        "tags": [],
        "id": "0xPlRld858l-"
      },
      "source": [
        "Run the next code cell without changes to obtain the MAE for this approach."
      ]
    },
    {
      "cell_type": "code",
      "metadata": {
        "execution": {
          "iopub.execute_input": "2020-12-08T15:07:18.050945Z",
          "iopub.status.busy": "2020-12-08T15:07:18.050114Z",
          "iopub.status.idle": "2020-12-08T15:07:19.403692Z",
          "shell.execute_reply": "2020-12-08T15:07:19.403052Z"
        },
        "papermill": {
          "duration": 1.401571,
          "end_time": "2020-12-08T15:07:19.403794",
          "exception": false,
          "start_time": "2020-12-08T15:07:18.002223",
          "status": "completed"
        },
        "tags": [],
        "id": "7MvdbGi658l-"
      },
      "source": [
        "print(\"MAE (Drop columns with missing values):\")\n",
        "print(score_dataset(reduced_X_train, reduced_X_valid, y_train, y_valid))"
      ],
      "execution_count": null,
      "outputs": []
    },
    {
      "cell_type": "markdown",
      "metadata": {
        "papermill": {
          "duration": 0.030723,
          "end_time": "2020-12-08T15:07:19.465201",
          "exception": false,
          "start_time": "2020-12-08T15:07:19.434478",
          "status": "completed"
        },
        "tags": [],
        "id": "baDFJ16C58l-"
      },
      "source": [
        "# Step 3: Imputation\n",
        "\n",
        "### Part A\n",
        "\n",
        "Use the next code cell to impute missing values with the mean value along each column.  Set the preprocessed DataFrames to `imputed_X_train` and `imputed_X_valid`.  Make sure that the column names match those in `X_train` and `X_valid`."
      ]
    },
    {
      "cell_type": "code",
      "metadata": {
        "execution": {
          "iopub.execute_input": "2020-12-08T15:07:19.532788Z",
          "iopub.status.busy": "2020-12-08T15:07:19.532149Z",
          "iopub.status.idle": "2020-12-08T15:07:19.566464Z",
          "shell.execute_reply": "2020-12-08T15:07:19.565838Z"
        },
        "papermill": {
          "duration": 0.07056,
          "end_time": "2020-12-08T15:07:19.566583",
          "exception": false,
          "start_time": "2020-12-08T15:07:19.496023",
          "status": "completed"
        },
        "tags": [],
        "id": "zmDkpnBJ58l-"
      },
      "source": [
        "from sklearn.impute import SimpleImputer\n",
        "\n",
        "# Fill in the lines below: imputation\n",
        "simple_imp = SimpleImputer() # Your code here\n",
        "imputed_X_train = pd.DataFrame(simple_imp.fit_transform(X_train))\n",
        "imputed_X_valid = pd.DataFrame(simple_imp.transform(X_valid))\n",
        "\n",
        "# Fill in the lines below: imputation removed column names; put them back\n",
        "imputed_X_train.columns = X_train.columns\n",
        "imputed_X_valid.columns = X_valid.columns\n",
        "\n",
        "# Check your answers\n",
        "step_3.a.check()"
      ],
      "execution_count": null,
      "outputs": []
    },
    {
      "cell_type": "code",
      "metadata": {
        "execution": {
          "iopub.execute_input": "2020-12-08T15:07:19.634225Z",
          "iopub.status.busy": "2020-12-08T15:07:19.633434Z",
          "iopub.status.idle": "2020-12-08T15:07:19.637736Z",
          "shell.execute_reply": "2020-12-08T15:07:19.636927Z"
        },
        "papermill": {
          "duration": 0.039161,
          "end_time": "2020-12-08T15:07:19.637851",
          "exception": false,
          "start_time": "2020-12-08T15:07:19.598690",
          "status": "completed"
        },
        "tags": [],
        "id": "aIVzc0_B58l_"
      },
      "source": [
        "# Lines below will give you a hint or solution code\n",
        "#step_3.a.hint()\n",
        "#step_3.a.solution()"
      ],
      "execution_count": null,
      "outputs": []
    },
    {
      "cell_type": "markdown",
      "metadata": {
        "papermill": {
          "duration": 0.047651,
          "end_time": "2020-12-08T15:07:19.733103",
          "exception": false,
          "start_time": "2020-12-08T15:07:19.685452",
          "status": "completed"
        },
        "tags": [],
        "id": "Ctt8Ies858l_"
      },
      "source": [
        "Run the next code cell without changes to obtain the MAE for this approach."
      ]
    },
    {
      "cell_type": "code",
      "metadata": {
        "execution": {
          "iopub.execute_input": "2020-12-08T15:07:19.842045Z",
          "iopub.status.busy": "2020-12-08T15:07:19.836415Z",
          "iopub.status.idle": "2020-12-08T15:07:21.233788Z",
          "shell.execute_reply": "2020-12-08T15:07:21.233074Z"
        },
        "papermill": {
          "duration": 1.452947,
          "end_time": "2020-12-08T15:07:21.233920",
          "exception": false,
          "start_time": "2020-12-08T15:07:19.780973",
          "status": "completed"
        },
        "tags": [],
        "id": "2TVBUk0M58l_"
      },
      "source": [
        "print(\"MAE (Imputation):\")\n",
        "print(score_dataset(imputed_X_train, imputed_X_valid, y_train, y_valid))"
      ],
      "execution_count": null,
      "outputs": []
    },
    {
      "cell_type": "markdown",
      "metadata": {
        "papermill": {
          "duration": 0.031204,
          "end_time": "2020-12-08T15:07:21.315065",
          "exception": false,
          "start_time": "2020-12-08T15:07:21.283861",
          "status": "completed"
        },
        "tags": [],
        "id": "r0H1IzqF58l_"
      },
      "source": [
        "### Part B\n",
        "\n",
        "Compare the MAE from each approach.  Does anything surprise you about the results?  Why do you think one approach performed better than the other?"
      ]
    },
    {
      "cell_type": "code",
      "metadata": {
        "execution": {
          "iopub.execute_input": "2020-12-08T15:07:21.366912Z",
          "iopub.status.busy": "2020-12-08T15:07:21.366380Z",
          "iopub.status.idle": "2020-12-08T15:07:21.373132Z",
          "shell.execute_reply": "2020-12-08T15:07:21.372619Z"
        },
        "papermill": {
          "duration": 0.034722,
          "end_time": "2020-12-08T15:07:21.373258",
          "exception": false,
          "start_time": "2020-12-08T15:07:21.338536",
          "status": "completed"
        },
        "tags": [],
        "id": "-88V5tZX58l_"
      },
      "source": [
        "# Check your answer (Run this code cell to receive credit!)\n",
        "step_3.b.check()"
      ],
      "execution_count": null,
      "outputs": []
    },
    {
      "cell_type": "code",
      "metadata": {
        "execution": {
          "iopub.execute_input": "2020-12-08T15:07:21.447789Z",
          "iopub.status.busy": "2020-12-08T15:07:21.447130Z",
          "iopub.status.idle": "2020-12-08T15:07:21.450667Z",
          "shell.execute_reply": "2020-12-08T15:07:21.450033Z"
        },
        "papermill": {
          "duration": 0.04243,
          "end_time": "2020-12-08T15:07:21.450781",
          "exception": false,
          "start_time": "2020-12-08T15:07:21.408351",
          "status": "completed"
        },
        "tags": [],
        "id": "JcEpnIGv58l_"
      },
      "source": [
        "#step_3.b.hint()"
      ],
      "execution_count": null,
      "outputs": []
    },
    {
      "cell_type": "markdown",
      "metadata": {
        "papermill": {
          "duration": 0.034412,
          "end_time": "2020-12-08T15:07:21.520063",
          "exception": false,
          "start_time": "2020-12-08T15:07:21.485651",
          "status": "completed"
        },
        "tags": [],
        "id": "chSJ7M-b58l_"
      },
      "source": [
        "# Step 4: Generate test predictions\n",
        "\n",
        "In this final step, you'll use any approach of your choosing to deal with missing values.  Once you've preprocessed the training and validation features, you'll train and evaluate a random forest model.  Then, you'll preprocess the test data before generating predictions that can be submitted to the competition!\n",
        "\n",
        "### Part A\n",
        "\n",
        "Use the next code cell to preprocess the training and validation data.  Set the preprocessed DataFrames to `final_X_train` and `final_X_valid`.  **You can use any approach of your choosing here!**  in order for this step to be marked as correct, you need only ensure:\n",
        "- the preprocessed DataFrames have the same number of columns,\n",
        "- the preprocessed DataFrames have no missing values, \n",
        "- `final_X_train` and `y_train` have the same number of rows, and\n",
        "- `final_X_valid` and `y_valid` have the same number of rows."
      ]
    },
    {
      "cell_type": "code",
      "metadata": {
        "execution": {
          "iopub.execute_input": "2020-12-08T15:07:21.598046Z",
          "iopub.status.busy": "2020-12-08T15:07:21.597326Z",
          "iopub.status.idle": "2020-12-08T15:07:21.627274Z",
          "shell.execute_reply": "2020-12-08T15:07:21.626739Z"
        },
        "papermill": {
          "duration": 0.072598,
          "end_time": "2020-12-08T15:07:21.627381",
          "exception": false,
          "start_time": "2020-12-08T15:07:21.554783",
          "status": "completed"
        },
        "tags": [],
        "id": "Co7xPajB58l_"
      },
      "source": [
        "# Preprocessed training and validation features\n",
        "imputer_median = SimpleImputer(strategy=\"median\")\n",
        "\n",
        "final_X_train = pd.DataFrame(imputer_median.fit_transform(X_train))\n",
        "final_X_valid = pd.DataFrame(imputer_median.transform(X_valid))\n",
        "final_X_train.columns = X_train.columns\n",
        "final_X_valid.columns = X_valid.columns\n",
        "# Check your answers\n",
        "step_4.a.check()"
      ],
      "execution_count": null,
      "outputs": []
    },
    {
      "cell_type": "code",
      "metadata": {
        "execution": {
          "iopub.execute_input": "2020-12-08T15:07:21.704380Z",
          "iopub.status.busy": "2020-12-08T15:07:21.703241Z",
          "iopub.status.idle": "2020-12-08T15:07:21.707260Z",
          "shell.execute_reply": "2020-12-08T15:07:21.706429Z"
        },
        "papermill": {
          "duration": 0.044254,
          "end_time": "2020-12-08T15:07:21.707386",
          "exception": false,
          "start_time": "2020-12-08T15:07:21.663132",
          "status": "completed"
        },
        "tags": [],
        "id": "1F0Lynie58l_"
      },
      "source": [
        "# Lines below will give you a hint or solution code\n",
        "#step_4.a.hint()\n",
        "#step_4.a.solution()"
      ],
      "execution_count": null,
      "outputs": []
    },
    {
      "cell_type": "markdown",
      "metadata": {
        "papermill": {
          "duration": 0.0533,
          "end_time": "2020-12-08T15:07:21.814835",
          "exception": false,
          "start_time": "2020-12-08T15:07:21.761535",
          "status": "completed"
        },
        "tags": [],
        "id": "yC8R6Lt-58l_"
      },
      "source": [
        "Run the next code cell to train and evaluate a random forest model.  (*Note that we don't use the `score_dataset()` function above, because we will soon use the trained model to generate test predictions!*)"
      ]
    },
    {
      "cell_type": "code",
      "metadata": {
        "execution": {
          "iopub.execute_input": "2020-12-08T15:07:21.930657Z",
          "iopub.status.busy": "2020-12-08T15:07:21.929837Z",
          "iopub.status.idle": "2020-12-08T15:07:23.432207Z",
          "shell.execute_reply": "2020-12-08T15:07:23.431218Z"
        },
        "papermill": {
          "duration": 1.563244,
          "end_time": "2020-12-08T15:07:23.432358",
          "exception": false,
          "start_time": "2020-12-08T15:07:21.869114",
          "status": "completed"
        },
        "tags": [],
        "id": "UWV5JHFj58l_"
      },
      "source": [
        "# Define and fit model\n",
        "model = RandomForestRegressor(n_estimators=100, random_state=0)\n",
        "model.fit(final_X_train, y_train)\n",
        "\n",
        "# Get validation predictions and MAE\n",
        "preds_valid = model.predict(final_X_valid)\n",
        "\n",
        "print(\"MAE (Your approach):\")\n",
        "print(mean_absolute_error(y_valid, preds_valid))"
      ],
      "execution_count": null,
      "outputs": []
    },
    {
      "cell_type": "markdown",
      "metadata": {
        "papermill": {
          "duration": 0.054437,
          "end_time": "2020-12-08T15:07:23.542047",
          "exception": false,
          "start_time": "2020-12-08T15:07:23.487610",
          "status": "completed"
        },
        "tags": [],
        "id": "iJJQkC0658mA"
      },
      "source": [
        "### Part B\n",
        "\n",
        "Use the next code cell to preprocess your test data.  Make sure that you use a method that agrees with how you preprocessed the training and validation data, and set the preprocessed test features to `final_X_test`.\n",
        "\n",
        "Then, use the preprocessed test features and the trained model to generate test predictions in `preds_test`.\n",
        "\n",
        "In order for this step to be marked correct, you need only ensure:\n",
        "- the preprocessed test DataFrame has no missing values, and\n",
        "- `final_X_test` has the same number of rows as `X_test`."
      ]
    },
    {
      "cell_type": "code",
      "metadata": {
        "execution": {
          "iopub.execute_input": "2020-12-08T15:07:23.657595Z",
          "iopub.status.busy": "2020-12-08T15:07:23.656814Z",
          "iopub.status.idle": "2020-12-08T15:07:23.705577Z",
          "shell.execute_reply": "2020-12-08T15:07:23.704791Z"
        },
        "papermill": {
          "duration": 0.109643,
          "end_time": "2020-12-08T15:07:23.705692",
          "exception": false,
          "start_time": "2020-12-08T15:07:23.596049",
          "status": "completed"
        },
        "tags": [],
        "id": "ApIo69Ot58mA"
      },
      "source": [
        "# Fill in the line below: preprocess test data\n",
        "final_X_test = pd.DataFrame(imputer_median.transform(X_test))\n",
        "\n",
        "# Fill in the line below: get test predictions\n",
        "preds_test = model.predict(final_X_test)\n",
        "\n",
        "# Check your answers\n",
        "step_4.b.check()"
      ],
      "execution_count": null,
      "outputs": []
    },
    {
      "cell_type": "code",
      "metadata": {
        "execution": {
          "iopub.execute_input": "2020-12-08T15:07:23.821363Z",
          "iopub.status.busy": "2020-12-08T15:07:23.820595Z",
          "iopub.status.idle": "2020-12-08T15:07:23.824295Z",
          "shell.execute_reply": "2020-12-08T15:07:23.823589Z"
        },
        "papermill": {
          "duration": 0.063089,
          "end_time": "2020-12-08T15:07:23.824406",
          "exception": false,
          "start_time": "2020-12-08T15:07:23.761317",
          "status": "completed"
        },
        "tags": [],
        "id": "Ti0xvsT058mA"
      },
      "source": [
        "# Lines below will give you a hint or solution code\n",
        "#step_4.b.hint()\n",
        "#step_4.b.solution()"
      ],
      "execution_count": null,
      "outputs": []
    },
    {
      "cell_type": "markdown",
      "metadata": {
        "papermill": {
          "duration": 0.055723,
          "end_time": "2020-12-08T15:07:23.936967",
          "exception": false,
          "start_time": "2020-12-08T15:07:23.881244",
          "status": "completed"
        },
        "tags": [],
        "id": "fzISb-d258mA"
      },
      "source": [
        "Run the next code cell without changes to save your results to a CSV file that can be submitted directly to the competition."
      ]
    },
    {
      "cell_type": "code",
      "metadata": {
        "execution": {
          "iopub.execute_input": "2020-12-08T15:07:24.055678Z",
          "iopub.status.busy": "2020-12-08T15:07:24.054692Z",
          "iopub.status.idle": "2020-12-08T15:07:24.393453Z",
          "shell.execute_reply": "2020-12-08T15:07:24.392582Z"
        },
        "papermill": {
          "duration": 0.400652,
          "end_time": "2020-12-08T15:07:24.393623",
          "exception": false,
          "start_time": "2020-12-08T15:07:23.992971",
          "status": "completed"
        },
        "tags": [],
        "id": "2QGRAfbk58mA"
      },
      "source": [
        "# Save test predictions to file\n",
        "output = pd.DataFrame({'Id': X_test.index,\n",
        "                       'SalePrice': preds_test})\n",
        "output.to_csv('submission.csv', index=False)"
      ],
      "execution_count": null,
      "outputs": []
    },
    {
      "cell_type": "markdown",
      "metadata": {
        "papermill": {
          "duration": 0.057292,
          "end_time": "2020-12-08T15:07:24.623240",
          "exception": false,
          "start_time": "2020-12-08T15:07:24.565948",
          "status": "completed"
        },
        "tags": [],
        "id": "lLIrzVBO58mA"
      },
      "source": [
        "---\n",
        "\n",
        "\n",
        "\n",
        "\n",
        "*Have questions or comments? Visit the [Learn Discussion forum](https://www.kaggle.com/learn-forum/161289) to chat with other Learners.*"
      ]
    }
  ]
}