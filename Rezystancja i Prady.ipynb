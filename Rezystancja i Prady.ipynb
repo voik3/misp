!pip install pulp
!sudo apt-get install coinor-cbc glpk-utils coinor-clp

from pulp import *

# Maksymalny prad
Iukladu = LpProblem("Prad_rezystorow", LpMaximize)
galezie = ["R1", "R2", "R3", "R4", "R5"]
R = { "R1": 8, "R2" : 6, "R3" : 4, "R4" : 10, "R5" : 8 }
limit_I = { "R1": 2, "R2" : 3, "R3" : 4, "R4" : 2,  "R5" : 2 }

Iact = LpVariable.dicts("Prad", galezie, 0)
Iukladu += Iact["R3"], "Prad_calego_ukladu"
for iRx in Iact:
    Iukladu += Iact[iRx] <= limit_I[iRx]
	
Iukladu += Iact["R1"] + Iact["R2"] == Iact["R3"]
Iukladu += Iact["R4"] + Iact["R5"] == Iact["R3"]

Iukladu += Iact["R2"] == Iact["R1"] * R["R1"] / R["R2"]
Iukladu += Iact["R4"] == Iact["R5"] * R["R5"] / R["R4"]

Iukladu.solve()
print("Status: ", LpStatus[Iukladu.status])
print("Max prad: {:.2f} A".format(Iukladu.objective.value()))
for var in Iukladu.variables():
    print("{}: {:.2f} A".format(var.name, var.value()))
	
# Minimalny prad
galezie = [ "R1", "R2", "R3", "R4", "R5" ]
napiecie =  { "R1" : 6, "R2" : 10, "R3" : 4, "R4" : 7, "R5" : 3 }
prad =      { "R1" : 4, "R2" : 2,  "R3" : 2, "R4" : 2, "R5" : 4 }
bladPradu = { "R1" : 1, "R2" : 1,  "R3" : 1, "R4" : 1, "R5" : 1 }

problemMocy = LpProblem("Minimalizacja_mocy_rozproszenia", LpMinimize)
konduktancja = LpVariable.dicts("Konduktancja", galezie, 0, None, "Continous")
problemMocy += lpSum(napiecie[galaz] * napiecie[galaz] * konduktancja[galaz] for galaz in galezie), "Moc_rozproszenia"

for galaz in galezie:
    problemMocy += napiecie[galaz] * konduktancja[galaz] >= prad[galaz] - bladPradu[galaz]
    problemMocy += napiecie[galaz] * konduktancja[galaz] <= prad[galaz] + bladPradu[galaz]
	
problemMocy += napiecie["R1"] * konduktancja["R1"] == napiecie["R3"] * konduktancja["R3"] + napiecie["R4"] * konduktancja["R4"]
problemMocy += napiecie["R5"] * konduktancja["R5"] == napiecie["R3"] * konduktancja["R3"] + napiecie["R2"] * konduktancja["R2"]

problemMocy.solve()
print("Status: {}".format(LpStatus[problemMocy.status]))
print("Straty: {:.1f} mW.".format(problemMocy.objective.value()))
print("Wybrane rezystory: ")

for v in problemMocy.variables():
    print("Rezystor {} = {:.3} kOhm".format(v.name[v.name.index("_") + 1:], 1.0 / v.value()))