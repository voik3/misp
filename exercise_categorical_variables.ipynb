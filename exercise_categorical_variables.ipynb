{
  "nbformat": 4,
  "nbformat_minor": 0,
  "metadata": {
    "kernelspec": {
      "display_name": "Python 3",
      "language": "python",
      "name": "python3"
    },
    "language_info": {
      "codemirror_mode": {
        "name": "ipython",
        "version": 3
      },
      "file_extension": ".py",
      "mimetype": "text/x-python",
      "name": "python",
      "nbconvert_exporter": "python",
      "pygments_lexer": "ipython3",
      "version": "3.7.6"
    },
    "papermill": {
      "duration": 17.773388,
      "end_time": "2020-12-15T16:33:04.205908",
      "environment_variables": {},
      "exception": null,
      "input_path": "__notebook__.ipynb",
      "output_path": "__notebook__.ipynb",
      "parameters": {},
      "start_time": "2020-12-15T16:32:46.432520",
      "version": "2.1.0"
    },
    "colab": {
      "name": "Kopia notatnika exercise-categorical-variables.ipynb",
      "provenance": [],
      "collapsed_sections": []
    }
  },
  "cells": [
    {
      "cell_type": "markdown",
      "metadata": {
        "papermill": {
          "duration": 0.026786,
          "end_time": "2020-12-15T16:32:51.892190",
          "exception": false,
          "start_time": "2020-12-15T16:32:51.865404",
          "status": "completed"
        },
        "tags": [],
        "id": "HuF4M1FCSsoU"
      },
      "source": [
        "**This notebook is an exercise in the [Intermediate Machine Learning](https://www.kaggle.com/learn/intermediate-machine-learning) course.  You can reference the tutorial at [this link](https://www.kaggle.com/alexisbcook/categorical-variables).**\n",
        "\n",
        "---\n"
      ]
    },
    {
      "cell_type": "markdown",
      "metadata": {
        "papermill": {
          "duration": 0.025341,
          "end_time": "2020-12-15T16:32:51.943018",
          "exception": false,
          "start_time": "2020-12-15T16:32:51.917677",
          "status": "completed"
        },
        "tags": [],
        "id": "QBj_9ZjxSson"
      },
      "source": [
        "By encoding **categorical variables**, you'll obtain your best results thus far!\n",
        "\n",
        "# Setup\n",
        "\n",
        "The questions below will give you feedback on your work. Run the following cell to set up the feedback system."
      ]
    },
    {
      "cell_type": "code",
      "metadata": {
        "execution": {
          "iopub.execute_input": "2020-12-15T16:32:52.003633Z",
          "iopub.status.busy": "2020-12-15T16:32:52.002918Z",
          "iopub.status.idle": "2020-12-15T16:32:52.079414Z",
          "shell.execute_reply": "2020-12-15T16:32:52.078583Z"
        },
        "papermill": {
          "duration": 0.109546,
          "end_time": "2020-12-15T16:32:52.079564",
          "exception": false,
          "start_time": "2020-12-15T16:32:51.970018",
          "status": "completed"
        },
        "tags": [],
        "id": "trPGNU3iSsoo"
      },
      "source": [
        "# Set up code checking\n",
        "import os\n",
        "if not os.path.exists(\"../input/train.csv\"):\n",
        "    os.symlink(\"../input/home-data-for-ml-course/train.csv\", \"../input/train.csv\")  \n",
        "    os.symlink(\"../input/home-data-for-ml-course/test.csv\", \"../input/test.csv\") \n",
        "from learntools.core import binder\n",
        "binder.bind(globals())\n",
        "from learntools.ml_intermediate.ex3 import *\n",
        "print(\"Setup Complete\")"
      ],
      "execution_count": null,
      "outputs": []
    },
    {
      "cell_type": "markdown",
      "metadata": {
        "papermill": {
          "duration": 0.028048,
          "end_time": "2020-12-15T16:32:52.133689",
          "exception": false,
          "start_time": "2020-12-15T16:32:52.105641",
          "status": "completed"
        },
        "tags": [],
        "id": "tKvAxfBqSsos"
      },
      "source": [
        "In this exercise, you will work with data from the [Housing Prices Competition for Kaggle Learn Users](https://www.kaggle.com/c/home-data-for-ml-course). \n",
        "\n",
        "![Ames Housing dataset image](https://i.imgur.com/lTJVG4e.png)\n",
        "\n",
        "Run the next code cell without changes to load the training and validation sets in `X_train`, `X_valid`, `y_train`, and `y_valid`.  The test set is loaded in `X_test`."
      ]
    },
    {
      "cell_type": "code",
      "metadata": {
        "execution": {
          "iopub.execute_input": "2020-12-15T16:32:52.204339Z",
          "iopub.status.busy": "2020-12-15T16:32:52.203436Z",
          "iopub.status.idle": "2020-12-15T16:32:53.501074Z",
          "shell.execute_reply": "2020-12-15T16:32:53.500504Z"
        },
        "papermill": {
          "duration": 1.337908,
          "end_time": "2020-12-15T16:32:53.501197",
          "exception": false,
          "start_time": "2020-12-15T16:32:52.163289",
          "status": "completed"
        },
        "tags": [],
        "id": "p-W8JPAYSsou"
      },
      "source": [
        "import pandas as pd\n",
        "from sklearn.model_selection import train_test_split\n",
        "\n",
        "# Read the data\n",
        "X = pd.read_csv('../input/train.csv', index_col='Id') \n",
        "\n",
        "# Remove rows with missing target, separate target from predictors\n",
        "X.dropna(axis=0, subset=['SalePrice'], inplace=True)\n",
        "y = X.SalePrice\n",
        "X.drop(['SalePrice'], axis=1, inplace=True)\n",
        "\n",
        "# To keep things simple, we'll drop columns with missing values\n",
        "cols_with_missing = [col for col in X.columns if X[col].isnull().any()] \n",
        "X.drop(cols_with_missing, axis=1, inplace=True)\n",
        "\n",
        "# Break off validation set from training data\n",
        "X_train, X_valid, y_train, y_valid = train_test_split(X, y,\n",
        "                                                      train_size=0.8, test_size=0.2,\n",
        "                                                      random_state=0)"
      ],
      "execution_count": null,
      "outputs": []
    },
    {
      "cell_type": "markdown",
      "metadata": {
        "papermill": {
          "duration": 0.02728,
          "end_time": "2020-12-15T16:32:53.554156",
          "exception": false,
          "start_time": "2020-12-15T16:32:53.526876",
          "status": "completed"
        },
        "tags": [],
        "id": "U9xQX7O5Ssov"
      },
      "source": [
        "Use the next code cell to print the first five rows of the data."
      ]
    },
    {
      "cell_type": "code",
      "metadata": {
        "execution": {
          "iopub.execute_input": "2020-12-15T16:32:53.628385Z",
          "iopub.status.busy": "2020-12-15T16:32:53.627658Z",
          "iopub.status.idle": "2020-12-15T16:32:53.645029Z",
          "shell.execute_reply": "2020-12-15T16:32:53.644253Z"
        },
        "papermill": {
          "duration": 0.064409,
          "end_time": "2020-12-15T16:32:53.645215",
          "exception": false,
          "start_time": "2020-12-15T16:32:53.580806",
          "status": "completed"
        },
        "tags": [],
        "id": "jn9YUCBBSsow"
      },
      "source": [
        "X_train.head()"
      ],
      "execution_count": null,
      "outputs": []
    },
    {
      "cell_type": "markdown",
      "metadata": {
        "papermill": {
          "duration": 0.026549,
          "end_time": "2020-12-15T16:32:53.701699",
          "exception": false,
          "start_time": "2020-12-15T16:32:53.675150",
          "status": "completed"
        },
        "tags": [],
        "id": "bkpvuT6ESsox"
      },
      "source": [
        "Notice that the dataset contains both numerical and categorical variables.  You'll need to encode the categorical data before training a model.\n",
        "\n",
        "To compare different models, you'll use the same `score_dataset()` function from the tutorial.  This function reports the [mean absolute error](https://en.wikipedia.org/wiki/Mean_absolute_error) (MAE) from a random forest model."
      ]
    },
    {
      "cell_type": "code",
      "metadata": {
        "execution": {
          "iopub.execute_input": "2020-12-15T16:32:53.764118Z",
          "iopub.status.busy": "2020-12-15T16:32:53.763427Z",
          "iopub.status.idle": "2020-12-15T16:32:54.015949Z",
          "shell.execute_reply": "2020-12-15T16:32:54.015259Z"
        },
        "papermill": {
          "duration": 0.287083,
          "end_time": "2020-12-15T16:32:54.016072",
          "exception": false,
          "start_time": "2020-12-15T16:32:53.728989",
          "status": "completed"
        },
        "tags": [],
        "id": "_Xe0N_NSSsoy"
      },
      "source": [
        "from sklearn.ensemble import RandomForestRegressor\n",
        "from sklearn.metrics import mean_absolute_error\n",
        "\n",
        "# function for comparing different approaches\n",
        "def score_dataset(X_train, X_valid, y_train, y_valid):\n",
        "    model = RandomForestRegressor(n_estimators=100, random_state=0)\n",
        "    model.fit(X_train, y_train)\n",
        "    preds = model.predict(X_valid)\n",
        "    return mean_absolute_error(y_valid, preds)"
      ],
      "execution_count": null,
      "outputs": []
    },
    {
      "cell_type": "markdown",
      "metadata": {
        "papermill": {
          "duration": 0.027079,
          "end_time": "2020-12-15T16:32:54.071717",
          "exception": false,
          "start_time": "2020-12-15T16:32:54.044638",
          "status": "completed"
        },
        "tags": [],
        "id": "EUnZ9xGeSsoy"
      },
      "source": [
        "# Step 1: Drop columns with categorical data\n",
        "\n",
        "You'll get started with the most straightforward approach.  Use the code cell below to preprocess the data in `X_train` and `X_valid` to remove columns with categorical data.  Set the preprocessed DataFrames to `drop_X_train` and `drop_X_valid`, respectively.  "
      ]
    },
    {
      "cell_type": "code",
      "metadata": {
        "execution": {
          "iopub.execute_input": "2020-12-15T16:32:54.140208Z",
          "iopub.status.busy": "2020-12-15T16:32:54.139192Z",
          "iopub.status.idle": "2020-12-15T16:32:54.145246Z",
          "shell.execute_reply": "2020-12-15T16:32:54.144578Z"
        },
        "papermill": {
          "duration": 0.046021,
          "end_time": "2020-12-15T16:32:54.145363",
          "exception": false,
          "start_time": "2020-12-15T16:32:54.099342",
          "status": "completed"
        },
        "tags": [],
        "id": "6Wnd9XLJSsoz"
      },
      "source": [
        "# Fill in the lines below: drop columns in training and validation data\n",
        "drop_X_train = X_train.select_dtypes(exclude=['object'])\n",
        "drop_X_valid = X_valid.select_dtypes(exclude=['object'])\n",
        "# Check your answers\n",
        "step_1.check()"
      ],
      "execution_count": null,
      "outputs": []
    },
    {
      "cell_type": "code",
      "metadata": {
        "execution": {
          "iopub.execute_input": "2020-12-15T16:32:54.207663Z",
          "iopub.status.busy": "2020-12-15T16:32:54.206958Z",
          "iopub.status.idle": "2020-12-15T16:32:54.210767Z",
          "shell.execute_reply": "2020-12-15T16:32:54.210166Z"
        },
        "papermill": {
          "duration": 0.037167,
          "end_time": "2020-12-15T16:32:54.210928",
          "exception": false,
          "start_time": "2020-12-15T16:32:54.173761",
          "status": "completed"
        },
        "tags": [],
        "id": "96VQR_i4Sso0"
      },
      "source": [
        "# Lines below will give you a hint or solution code\n",
        "#step_1.hint()\n",
        "#step_1.solution()"
      ],
      "execution_count": null,
      "outputs": []
    },
    {
      "cell_type": "markdown",
      "metadata": {
        "papermill": {
          "duration": 0.0283,
          "end_time": "2020-12-15T16:32:54.268961",
          "exception": false,
          "start_time": "2020-12-15T16:32:54.240661",
          "status": "completed"
        },
        "tags": [],
        "id": "GtUfqV4tSso1"
      },
      "source": [
        "Run the next code cell to get the MAE for this approach."
      ]
    },
    {
      "cell_type": "code",
      "metadata": {
        "execution": {
          "iopub.execute_input": "2020-12-15T16:32:54.351529Z",
          "iopub.status.busy": "2020-12-15T16:32:54.334742Z",
          "iopub.status.idle": "2020-12-15T16:32:55.628285Z",
          "shell.execute_reply": "2020-12-15T16:32:55.627593Z"
        },
        "papermill": {
          "duration": 1.329577,
          "end_time": "2020-12-15T16:32:55.628403",
          "exception": false,
          "start_time": "2020-12-15T16:32:54.298826",
          "status": "completed"
        },
        "tags": [],
        "id": "sz5JIZsaSso1"
      },
      "source": [
        "print(\"MAE from Approach 1 (Drop categorical variables):\")\n",
        "print(score_dataset(drop_X_train, drop_X_valid, y_train, y_valid))"
      ],
      "execution_count": null,
      "outputs": []
    },
    {
      "cell_type": "markdown",
      "metadata": {
        "papermill": {
          "duration": 0.028411,
          "end_time": "2020-12-15T16:32:55.685512",
          "exception": false,
          "start_time": "2020-12-15T16:32:55.657101",
          "status": "completed"
        },
        "tags": [],
        "id": "iioxokqtSso2"
      },
      "source": [
        "Before jumping into label encoding, we'll investigate the dataset.  Specifically, we'll look at the `'Condition2'` column.  The code cell below prints the unique entries in both the training and validation sets."
      ]
    },
    {
      "cell_type": "code",
      "metadata": {
        "execution": {
          "iopub.execute_input": "2020-12-15T16:32:55.749760Z",
          "iopub.status.busy": "2020-12-15T16:32:55.748792Z",
          "iopub.status.idle": "2020-12-15T16:32:55.753594Z",
          "shell.execute_reply": "2020-12-15T16:32:55.752587Z"
        },
        "papermill": {
          "duration": 0.039787,
          "end_time": "2020-12-15T16:32:55.753754",
          "exception": false,
          "start_time": "2020-12-15T16:32:55.713967",
          "status": "completed"
        },
        "tags": [],
        "id": "aA8XxX6zSso3"
      },
      "source": [
        "print(\"Unique values in 'Condition2' column in training data:\", X_train['Condition2'].unique())\n",
        "print(\"\\nUnique values in 'Condition2' column in validation data:\", X_valid['Condition2'].unique())"
      ],
      "execution_count": null,
      "outputs": []
    },
    {
      "cell_type": "markdown",
      "metadata": {
        "papermill": {
          "duration": 0.028692,
          "end_time": "2020-12-15T16:32:55.814015",
          "exception": false,
          "start_time": "2020-12-15T16:32:55.785323",
          "status": "completed"
        },
        "tags": [],
        "id": "JNPZ8rpLSso3"
      },
      "source": [
        "# Step 2: Label encoding\n",
        "\n",
        "### Part A\n",
        "\n",
        "If you now write code to: \n",
        "- fit a label encoder to the training data, and then \n",
        "- use it to transform both the training and validation data, \n",
        "\n",
        "you'll get an error.  Can you see why this is the case?  (_You'll need  to use the above output to answer this question._)"
      ]
    },
    {
      "cell_type": "code",
      "metadata": {
        "execution": {
          "iopub.execute_input": "2020-12-15T16:32:55.882688Z",
          "iopub.status.busy": "2020-12-15T16:32:55.881543Z",
          "iopub.status.idle": "2020-12-15T16:32:55.888687Z",
          "shell.execute_reply": "2020-12-15T16:32:55.887931Z"
        },
        "papermill": {
          "duration": 0.045748,
          "end_time": "2020-12-15T16:32:55.888844",
          "exception": false,
          "start_time": "2020-12-15T16:32:55.843096",
          "status": "completed"
        },
        "tags": [],
        "id": "odk27ss_Sso4"
      },
      "source": [
        "# Check your answer (Run this code cell to receive credit!)\n",
        "step_2.a.check()"
      ],
      "execution_count": null,
      "outputs": []
    },
    {
      "cell_type": "code",
      "metadata": {
        "execution": {
          "iopub.execute_input": "2020-12-15T16:32:55.967262Z",
          "iopub.status.busy": "2020-12-15T16:32:55.966409Z",
          "iopub.status.idle": "2020-12-15T16:32:55.971790Z",
          "shell.execute_reply": "2020-12-15T16:32:55.972600Z"
        },
        "papermill": {
          "duration": 0.04503,
          "end_time": "2020-12-15T16:32:55.972824",
          "exception": false,
          "start_time": "2020-12-15T16:32:55.927794",
          "status": "completed"
        },
        "tags": [],
        "id": "xYgxN_GzSso5"
      },
      "source": [
        "#step_2.a.hint()"
      ],
      "execution_count": null,
      "outputs": []
    },
    {
      "cell_type": "markdown",
      "metadata": {
        "papermill": {
          "duration": 0.040764,
          "end_time": "2020-12-15T16:32:56.050963",
          "exception": false,
          "start_time": "2020-12-15T16:32:56.010199",
          "status": "completed"
        },
        "tags": [],
        "id": "KvGb5N1fSso5"
      },
      "source": [
        "This is a common problem that you'll encounter with real-world data, and there are many approaches to fixing this issue.  For instance, you can write a custom label encoder to deal with new categories.  The simplest approach, however, is to drop the problematic categorical columns.  \n",
        "\n",
        "Run the code cell below to save the problematic columns to a Python list `bad_label_cols`.  Likewise, columns that can be safely label encoded are stored in `good_label_cols`."
      ]
    },
    {
      "cell_type": "code",
      "metadata": {
        "execution": {
          "iopub.execute_input": "2020-12-15T16:32:56.116801Z",
          "iopub.status.busy": "2020-12-15T16:32:56.116140Z",
          "iopub.status.idle": "2020-12-15T16:32:56.132772Z",
          "shell.execute_reply": "2020-12-15T16:32:56.133535Z"
        },
        "papermill": {
          "duration": 0.050878,
          "end_time": "2020-12-15T16:32:56.133866",
          "exception": false,
          "start_time": "2020-12-15T16:32:56.082988",
          "status": "completed"
        },
        "tags": [],
        "id": "1yuzGD9eSso6"
      },
      "source": [
        "# All categorical columns\n",
        "object_cols = [col for col in X_train.columns if X_train[col].dtype == \"object\"]\n",
        "\n",
        "# Columns that can be safely label encoded\n",
        "good_label_cols = [col for col in object_cols if \n",
        "                   set(X_train[col]) == set(X_valid[col])]\n",
        "        \n",
        "# Problematic columns that will be dropped from the dataset\n",
        "bad_label_cols = list(set(object_cols)-set(good_label_cols))\n",
        "        \n",
        "print('Categorical columns that will be label encoded:', good_label_cols)\n",
        "print('\\nCategorical columns that will be dropped from the dataset:', bad_label_cols)"
      ],
      "execution_count": null,
      "outputs": []
    },
    {
      "cell_type": "markdown",
      "metadata": {
        "papermill": {
          "duration": 0.031004,
          "end_time": "2020-12-15T16:32:56.200555",
          "exception": false,
          "start_time": "2020-12-15T16:32:56.169551",
          "status": "completed"
        },
        "tags": [],
        "id": "VW9nqj9cSso7"
      },
      "source": [
        "### Part B\n",
        "\n",
        "Use the next code cell to label encode the data in `X_train` and `X_valid`.  Set the preprocessed DataFrames to `label_X_train` and `label_X_valid`, respectively.  \n",
        "- We have provided code below to drop the categorical columns in `bad_label_cols` from the dataset. \n",
        "- You should label encode the categorical columns in `good_label_cols`.  "
      ]
    },
    {
      "cell_type": "code",
      "metadata": {
        "execution": {
          "iopub.execute_input": "2020-12-15T16:32:56.291438Z",
          "iopub.status.busy": "2020-12-15T16:32:56.284704Z",
          "iopub.status.idle": "2020-12-15T16:32:56.298187Z",
          "shell.execute_reply": "2020-12-15T16:32:56.297509Z"
        },
        "papermill": {
          "duration": 0.065783,
          "end_time": "2020-12-15T16:32:56.298305",
          "exception": false,
          "start_time": "2020-12-15T16:32:56.232522",
          "status": "completed"
        },
        "tags": [],
        "id": "dbB43VyzSso8"
      },
      "source": [
        "from sklearn.preprocessing import LabelEncoder\n",
        "\n",
        "# Drop categorical columns that will not be encoded\n",
        "label_X_train = X_train.drop(bad_label_cols, axis=1)\n",
        "label_X_valid = X_valid.drop(bad_label_cols, axis=1)\n",
        "\n",
        "# Apply label encoder \n",
        "label_encoder = LabelEncoder() # Your code here\n",
        "for col in good_label_cols:\n",
        "    label_X_train[col] = label_encoder.fit_transform(label_X_train[col])\n",
        "    label_X_valid[col] = label_encoder.transform(label_X_valid[col])\n",
        "\n",
        "# Check your answer\n",
        "step_2.b.check()"
      ],
      "execution_count": null,
      "outputs": []
    },
    {
      "cell_type": "code",
      "metadata": {
        "execution": {
          "iopub.execute_input": "2020-12-15T16:32:56.367469Z",
          "iopub.status.busy": "2020-12-15T16:32:56.366785Z",
          "iopub.status.idle": "2020-12-15T16:32:56.370202Z",
          "shell.execute_reply": "2020-12-15T16:32:56.369524Z"
        },
        "papermill": {
          "duration": 0.039743,
          "end_time": "2020-12-15T16:32:56.370323",
          "exception": false,
          "start_time": "2020-12-15T16:32:56.330580",
          "status": "completed"
        },
        "tags": [],
        "id": "SMCT_XEpSso9"
      },
      "source": [
        "# Lines below will give you a hint or solution code\n",
        "#step_2.b.hint()\n",
        "#step_2.b.solution()"
      ],
      "execution_count": null,
      "outputs": []
    },
    {
      "cell_type": "markdown",
      "metadata": {
        "papermill": {
          "duration": 0.032167,
          "end_time": "2020-12-15T16:32:56.434903",
          "exception": false,
          "start_time": "2020-12-15T16:32:56.402736",
          "status": "completed"
        },
        "tags": [],
        "id": "_JSi_yyBSspB"
      },
      "source": [
        "Run the next code cell to get the MAE for this approach."
      ]
    },
    {
      "cell_type": "code",
      "metadata": {
        "execution": {
          "iopub.execute_input": "2020-12-15T16:32:56.507722Z",
          "iopub.status.busy": "2020-12-15T16:32:56.507006Z",
          "iopub.status.idle": "2020-12-15T16:32:57.931183Z",
          "shell.execute_reply": "2020-12-15T16:32:57.931635Z"
        },
        "papermill": {
          "duration": 1.464466,
          "end_time": "2020-12-15T16:32:57.931785",
          "exception": false,
          "start_time": "2020-12-15T16:32:56.467319",
          "status": "completed"
        },
        "tags": [],
        "id": "z2sgPjP7SspC"
      },
      "source": [
        "print(\"MAE from Approach 2 (Label Encoding):\") \n",
        "print(score_dataset(label_X_train, label_X_valid, y_train, y_valid))"
      ],
      "execution_count": null,
      "outputs": []
    },
    {
      "cell_type": "markdown",
      "metadata": {
        "papermill": {
          "duration": 0.03283,
          "end_time": "2020-12-15T16:32:57.998435",
          "exception": false,
          "start_time": "2020-12-15T16:32:57.965605",
          "status": "completed"
        },
        "tags": [],
        "id": "yYbX1qaCSspD"
      },
      "source": [
        "So far, you've tried two different approaches to dealing with categorical variables.  And, you've seen that encoding categorical data yields better results than removing columns from the dataset.\n",
        "\n",
        "Soon, you'll try one-hot encoding.  Before then, there's one additional topic we need to cover.  Begin by running the next code cell without changes.  "
      ]
    },
    {
      "cell_type": "code",
      "metadata": {
        "execution": {
          "iopub.execute_input": "2020-12-15T16:32:58.074600Z",
          "iopub.status.busy": "2020-12-15T16:32:58.073941Z",
          "iopub.status.idle": "2020-12-15T16:32:58.086314Z",
          "shell.execute_reply": "2020-12-15T16:32:58.085751Z"
        },
        "papermill": {
          "duration": 0.05298,
          "end_time": "2020-12-15T16:32:58.086431",
          "exception": false,
          "start_time": "2020-12-15T16:32:58.033451",
          "status": "completed"
        },
        "tags": [],
        "id": "tEoGihXfSspE"
      },
      "source": [
        "# Get number of unique entries in each column with categorical data\n",
        "object_nunique = list(map(lambda col: X_train[col].nunique(), object_cols))\n",
        "d = dict(zip(object_cols, object_nunique))\n",
        "# Print number of unique entries by column, in ascending order\n",
        "sorted(d.items(), key=lambda x: x[1])"
      ],
      "execution_count": null,
      "outputs": []
    },
    {
      "cell_type": "markdown",
      "metadata": {
        "papermill": {
          "duration": 0.033772,
          "end_time": "2020-12-15T16:32:58.154078",
          "exception": false,
          "start_time": "2020-12-15T16:32:58.120306",
          "status": "completed"
        },
        "tags": [],
        "id": "xE9waypCSspE"
      },
      "source": [
        "# Step 3: Investigating cardinality\n",
        "\n",
        "### Part A\n",
        "\n",
        "The output above shows, for each column with categorical data, the number of unique values in the column.  For instance, the `'Street'` column in the training data has two unique values: `'Grvl'` and `'Pave'`, corresponding to a gravel road and a paved road, respectively.\n",
        "\n",
        "We refer to the number of unique entries of a categorical variable as the **cardinality** of that categorical variable.  For instance, the `'Street'` variable has cardinality 2.\n",
        "\n",
        "Use the output above to answer the questions below."
      ]
    },
    {
      "cell_type": "code",
      "metadata": {
        "execution": {
          "iopub.execute_input": "2020-12-15T16:32:58.229849Z",
          "iopub.status.busy": "2020-12-15T16:32:58.229174Z",
          "iopub.status.idle": "2020-12-15T16:32:58.236038Z",
          "shell.execute_reply": "2020-12-15T16:32:58.235483Z"
        },
        "papermill": {
          "duration": 0.04725,
          "end_time": "2020-12-15T16:32:58.236150",
          "exception": false,
          "start_time": "2020-12-15T16:32:58.188900",
          "status": "completed"
        },
        "tags": [],
        "id": "PyzeIEeeSspF"
      },
      "source": [
        "# Fill in the line below: How many categorical variables in the training data\n",
        "# have cardinality greater than 10?\n",
        "high_cardinality_numcols = len([cat[0] for cat in d.items() if cat[1] > 10])\n",
        "print(high_cardinality_numcols)\n",
        "# Fill in the line below: How many columns are needed to one-hot encode the \n",
        "# 'Neighborhood' variable in the training data?\n",
        "\n",
        "num_cols_neighborhood = 25\n",
        "\n",
        "# Check your answers\n",
        "step_3.a.check()"
      ],
      "execution_count": null,
      "outputs": []
    },
    {
      "cell_type": "code",
      "metadata": {
        "execution": {
          "iopub.execute_input": "2020-12-15T16:32:58.312942Z",
          "iopub.status.busy": "2020-12-15T16:32:58.312201Z",
          "iopub.status.idle": "2020-12-15T16:32:58.315613Z",
          "shell.execute_reply": "2020-12-15T16:32:58.315077Z"
        },
        "papermill": {
          "duration": 0.043677,
          "end_time": "2020-12-15T16:32:58.315724",
          "exception": false,
          "start_time": "2020-12-15T16:32:58.272047",
          "status": "completed"
        },
        "tags": [],
        "id": "XN__DOVFSspG"
      },
      "source": [
        "# Lines below will give you a hint or solution code\n",
        "#step_3.a.hint()\n",
        "#step_3.a.solution()"
      ],
      "execution_count": null,
      "outputs": []
    },
    {
      "cell_type": "markdown",
      "metadata": {
        "papermill": {
          "duration": 0.034965,
          "end_time": "2020-12-15T16:32:58.386230",
          "exception": false,
          "start_time": "2020-12-15T16:32:58.351265",
          "status": "completed"
        },
        "tags": [],
        "id": "j-yQkPBHSspG"
      },
      "source": [
        "### Part B\n",
        "\n",
        "For large datasets with many rows, one-hot encoding can greatly expand the size of the dataset.  For this reason, we typically will only one-hot encode columns with relatively low cardinality.  Then, high cardinality columns can either be dropped from the dataset, or we can use label encoding.\n",
        "\n",
        "As an example, consider a dataset with 10,000 rows, and containing one categorical column with 100 unique entries.  \n",
        "- If this column is replaced with the corresponding one-hot encoding, how many entries are added to the dataset?  \n",
        "- If we instead replace the column with the label encoding, how many entries are added?  \n",
        "\n",
        "Use your answers to fill in the lines below."
      ]
    },
    {
      "cell_type": "code",
      "metadata": {
        "execution": {
          "iopub.execute_input": "2020-12-15T16:32:58.464729Z",
          "iopub.status.busy": "2020-12-15T16:32:58.463735Z",
          "iopub.status.idle": "2020-12-15T16:32:58.469287Z",
          "shell.execute_reply": "2020-12-15T16:32:58.468556Z"
        },
        "papermill": {
          "duration": 0.047941,
          "end_time": "2020-12-15T16:32:58.469402",
          "exception": false,
          "start_time": "2020-12-15T16:32:58.421461",
          "status": "completed"
        },
        "tags": [],
        "id": "pavwe0eFSspH"
      },
      "source": [
        "# Fill in the line below: How many entries are added to the dataset by \n",
        "# replacing the column with a one-hot encoding?\n",
        "OH_entries_added = 990000\n",
        "\n",
        "# Fill in the line below: How many entries are added to the dataset by\n",
        "# replacing the column with a label encoding?\n",
        "label_entries_added = 0\n",
        "\n",
        "# Check your answers\n",
        "step_3.b.check()"
      ],
      "execution_count": null,
      "outputs": []
    },
    {
      "cell_type": "code",
      "metadata": {
        "execution": {
          "iopub.execute_input": "2020-12-15T16:32:58.549625Z",
          "iopub.status.busy": "2020-12-15T16:32:58.548772Z",
          "iopub.status.idle": "2020-12-15T16:32:58.551279Z",
          "shell.execute_reply": "2020-12-15T16:32:58.551729Z"
        },
        "papermill": {
          "duration": 0.045661,
          "end_time": "2020-12-15T16:32:58.551902",
          "exception": false,
          "start_time": "2020-12-15T16:32:58.506241",
          "status": "completed"
        },
        "tags": [],
        "id": "tBDHwW_-SspI"
      },
      "source": [
        "# Lines below will give you a hint or solution code\n",
        "#step_3.b.hint()\n",
        "#step_3.b.solution()"
      ],
      "execution_count": null,
      "outputs": []
    },
    {
      "cell_type": "markdown",
      "metadata": {
        "papermill": {
          "duration": 0.037262,
          "end_time": "2020-12-15T16:32:58.627596",
          "exception": false,
          "start_time": "2020-12-15T16:32:58.590334",
          "status": "completed"
        },
        "tags": [],
        "id": "zMYBGWvySspI"
      },
      "source": [
        "Next, you'll experiment with one-hot encoding.  But, instead of encoding all of the categorical variables in the dataset, you'll only create a one-hot encoding for columns with cardinality less than 10.\n",
        "\n",
        "Run the code cell below without changes to set `low_cardinality_cols` to a Python list containing the columns that will be one-hot encoded.  Likewise, `high_cardinality_cols` contains a list of categorical columns that will be dropped from the dataset."
      ]
    },
    {
      "cell_type": "code",
      "metadata": {
        "execution": {
          "iopub.execute_input": "2020-12-15T16:32:58.709708Z",
          "iopub.status.busy": "2020-12-15T16:32:58.708965Z",
          "iopub.status.idle": "2020-12-15T16:32:58.718034Z",
          "shell.execute_reply": "2020-12-15T16:32:58.717439Z"
        },
        "papermill": {
          "duration": 0.053721,
          "end_time": "2020-12-15T16:32:58.718149",
          "exception": false,
          "start_time": "2020-12-15T16:32:58.664428",
          "status": "completed"
        },
        "tags": [],
        "id": "wCI3MAydSspJ"
      },
      "source": [
        "# Columns that will be one-hot encoded\n",
        "low_cardinality_cols = [col for col in object_cols if X_train[col].nunique() < 10]\n",
        "\n",
        "# Columns that will be dropped from the dataset\n",
        "high_cardinality_cols = list(set(object_cols)-set(low_cardinality_cols))\n",
        "\n",
        "print('Categorical columns that will be one-hot encoded:', low_cardinality_cols)\n",
        "print('\\nCategorical columns that will be dropped from the dataset:', high_cardinality_cols)"
      ],
      "execution_count": null,
      "outputs": []
    },
    {
      "cell_type": "markdown",
      "metadata": {
        "papermill": {
          "duration": 0.038269,
          "end_time": "2020-12-15T16:32:58.796009",
          "exception": false,
          "start_time": "2020-12-15T16:32:58.757740",
          "status": "completed"
        },
        "tags": [],
        "id": "1G5RvF7eSspK"
      },
      "source": [
        "# Step 4: One-hot encoding\n",
        "\n",
        "Use the next code cell to one-hot encode the data in `X_train` and `X_valid`.  Set the preprocessed DataFrames to `OH_X_train` and `OH_X_valid`, respectively.  \n",
        "- The full list of categorical columns in the dataset can be found in the Python list `object_cols`.\n",
        "- You should only one-hot encode the categorical columns in `low_cardinality_cols`.  All other categorical columns should be dropped from the dataset. "
      ]
    },
    {
      "cell_type": "code",
      "metadata": {
        "execution": {
          "iopub.execute_input": "2020-12-15T16:32:58.880519Z",
          "iopub.status.busy": "2020-12-15T16:32:58.879771Z",
          "iopub.status.idle": "2020-12-15T16:32:58.921552Z",
          "shell.execute_reply": "2020-12-15T16:32:58.922174Z"
        },
        "papermill": {
          "duration": 0.088424,
          "end_time": "2020-12-15T16:32:58.922323",
          "exception": false,
          "start_time": "2020-12-15T16:32:58.833899",
          "status": "completed"
        },
        "tags": [],
        "id": "7UjKRrSsSspK"
      },
      "source": [
        "from sklearn.preprocessing import OneHotEncoder\n",
        "\n",
        "# Use as many lines of code as you need!\n",
        "oh_encoder = OneHotEncoder(handle_unknown='ignore', sparse=False)\n",
        "OH_cols_train = pd.DataFrame(oh_encoder.fit_transform(X_train[low_cardinality_cols])) # Your code here\n",
        "OH_cols_valid = pd.DataFrame(oh_encoder.transform(X_valid[low_cardinality_cols])) # Your code here\n",
        "\n",
        "# Return lost indexes\n",
        "OH_cols_train.index = X_train.index\n",
        "OH_cols_valid.index = X_valid.index\n",
        "\n",
        "# Object columns are replaced or removed\n",
        "OH_X_train = pd.concat([X_train.drop(columns=object_cols, inplace=False),\n",
        "                       OH_cols_train], axis=1)\n",
        "OH_X_valid = pd.concat([X_valid.drop(columns=object_cols, inplace=False),\n",
        "                       OH_cols_valid], axis=1)\n",
        "\n",
        "# Check your answer\n",
        "step_4.check()"
      ],
      "execution_count": null,
      "outputs": []
    },
    {
      "cell_type": "code",
      "metadata": {
        "execution": {
          "iopub.execute_input": "2020-12-15T16:32:59.003649Z",
          "iopub.status.busy": "2020-12-15T16:32:59.002990Z",
          "iopub.status.idle": "2020-12-15T16:32:59.006596Z",
          "shell.execute_reply": "2020-12-15T16:32:59.007134Z"
        },
        "papermill": {
          "duration": 0.046555,
          "end_time": "2020-12-15T16:32:59.007287",
          "exception": false,
          "start_time": "2020-12-15T16:32:58.960732",
          "status": "completed"
        },
        "tags": [],
        "id": "TwBubbVKSspL"
      },
      "source": [
        "# Lines below will give you a hint or solution code\n",
        "#step_4.hint()\n",
        "#step_4.solution()"
      ],
      "execution_count": null,
      "outputs": []
    },
    {
      "cell_type": "markdown",
      "metadata": {
        "papermill": {
          "duration": 0.038144,
          "end_time": "2020-12-15T16:32:59.085086",
          "exception": false,
          "start_time": "2020-12-15T16:32:59.046942",
          "status": "completed"
        },
        "tags": [],
        "id": "LEn4wJ2CSspL"
      },
      "source": [
        "Run the next code cell to get the MAE for this approach."
      ]
    },
    {
      "cell_type": "code",
      "metadata": {
        "execution": {
          "iopub.execute_input": "2020-12-15T16:32:59.167161Z",
          "iopub.status.busy": "2020-12-15T16:32:59.166392Z",
          "iopub.status.idle": "2020-12-15T16:33:01.283523Z",
          "shell.execute_reply": "2020-12-15T16:33:01.282947Z"
        },
        "papermill": {
          "duration": 2.159334,
          "end_time": "2020-12-15T16:33:01.283642",
          "exception": false,
          "start_time": "2020-12-15T16:32:59.124308",
          "status": "completed"
        },
        "tags": [],
        "id": "kasFrgw_SspM"
      },
      "source": [
        "print(\"MAE from Approach 3 (One-Hot Encoding):\")\n",
        "from sklearn.impute import SimpleImputer\n",
        "imputer = SimpleImputer(strategy='most_frequent')\n",
        "OH_X_train = pd.DataFrame(imputer.fit_transform(OH_X_train))\n",
        "OH_X_valid = pd.DataFrame(imputer.transform(OH_X_valid))\n",
        "#OH_X_train.columns = X_train.columns\n",
        "#OH_X_valid.columns = X_valid.columns\n",
        "print(score_dataset(OH_X_train, OH_X_valid, y_train, y_valid))"
      ],
      "execution_count": null,
      "outputs": []
    },
    {
      "cell_type": "markdown",
      "metadata": {
        "papermill": {
          "duration": 0.039392,
          "end_time": "2020-12-15T16:33:01.363290",
          "exception": false,
          "start_time": "2020-12-15T16:33:01.323898",
          "status": "completed"
        },
        "tags": [],
        "id": "UZqzc2FLSspM"
      },
      "source": [
        "# Generate test predictions and submit your results\n",
        "\n",
        "After you complete Step 4, if you'd like to use what you've learned to submit your results to the leaderboard, you'll need to preprocess the test data before generating predictions.\n",
        "\n",
        "**This step is completely optional, and you do not need to submit results to the leaderboard to successfully complete the exercise.**\n",
        "\n",
        "Check out the previous exercise if you need help with remembering how to [join the competition](https://www.kaggle.com/c/home-data-for-ml-course) or save your results to CSV.  Once you have generated a file with your results, follow the instructions below:\n",
        "1. Begin by clicking on the blue **Save Version** button in the top right corner of the window.  This will generate a pop-up window.  \n",
        "2. Ensure that the **Save and Run All** option is selected, and then click on the blue **Save** button.\n",
        "3. This generates a window in the bottom left corner of the notebook.  After it has finished running, click on the number to the right of the **Save Version** button.  This pulls up a list of versions on the right of the screen.  Click on the ellipsis **(...)** to the right of the most recent version, and select **Open in Viewer**.  This brings you into view mode of the same page. You will need to scroll down to get back to these instructions.\n",
        "4. Click on the **Output** tab on the right of the screen.  Then, click on the file you would like to submit, and click on the blue **Submit** button to submit your results to the leaderboard.\n",
        "\n",
        "You have now successfully submitted to the competition!\n",
        "\n",
        "If you want to keep working to improve your performance, select the blue **Edit** button in the top right of the screen. Then you can change your code and repeat the process. There's a lot of room to improve, and you will climb up the leaderboard as you work.\n"
      ]
    },
    {
      "cell_type": "code",
      "metadata": {
        "execution": {
          "iopub.execute_input": "2020-12-15T16:33:01.465878Z",
          "iopub.status.busy": "2020-12-15T16:33:01.465165Z",
          "iopub.status.idle": "2020-12-15T16:33:03.885346Z",
          "shell.execute_reply": "2020-12-15T16:33:03.886037Z"
        },
        "papermill": {
          "duration": 2.483282,
          "end_time": "2020-12-15T16:33:03.886263",
          "exception": false,
          "start_time": "2020-12-15T16:33:01.402981",
          "status": "completed"
        },
        "tags": [],
        "id": "9POczBouSspM"
      },
      "source": [
        "# (Optional) Your code here\n",
        "from sklearn.impute import SimpleImputer\n",
        "from sklearn.preprocessing import OneHotEncoder\n",
        "\n",
        "# Preparing test & train data\n",
        "X_test = pd.read_csv('../input/test.csv', index_col='Id')\n",
        "# Train data\n",
        "X_train, X_valid, y_train, y_valid = train_test_split(X, y,\n",
        "                                                      train_size=0.8, test_size=0.2,\n",
        "                                                      random_state=0)\n",
        "## Columns with non-numerical values\n",
        "object_type_cols = [col for col in X_train if X_train[col].dtype == 'object']\n",
        "difference_cols = list(set(X_test.columns) - set(X_train.columns))\n",
        "X_test.drop(columns=difference_cols, inplace=True)\n",
        "## Columns with numerical values\n",
        "num_type_cols = list(set(X_test.columns) - set(object_type_cols))\n",
        "## Object-type columns with missing values\n",
        "missing_cols = [col for col in object_type_cols\n",
        "                if X_train[col].isnull().any() or X_test[col].isnull().any()]\n",
        "## Removing unused columns\n",
        "X_train.drop(columns=missing_cols, inplace=True)\n",
        "X_test.drop(columns=missing_cols, inplace=True)\n",
        "## Refreshing object-type columns after removing\n",
        "object_type_cols = list(set(object_type_cols) - set(missing_cols))\n",
        "\n",
        "# One-Hot Encoder\n",
        "oh_encoder = OneHotEncoder(handle_unknown='ignore', sparse=False)\n",
        "## Choosing columns with not many unique object-type values\n",
        "low_cardin_cols = [col for col in object_type_cols if X_test[col].nunique() < 10]\n",
        "## New columns with 0-1 for unique values in low cardinality columns\n",
        "OH_cols_train = pd.DataFrame(oh_encoder.fit_transform(X_train[low_cardin_cols]))\n",
        "OH_cols_test = pd.DataFrame(oh_encoder.transform(X_test[low_cardin_cols]))\n",
        "## Restore indexes\n",
        "OH_cols_train.index = X_train.index\n",
        "OH_cols_test.index = X_test.index\n",
        "X_train_num_type = X_train.drop(object_type_cols, axis=1, inplace=False)\n",
        "X_test_num_type = X_test.drop(object_type_cols, axis=1, inplace=False)\n",
        "## Removing all object-type columns and replacing those with low cardinality\n",
        "OH_X_train = pd.concat([X_train_num_type, OH_cols_train], axis=1)\n",
        "OH_X_test = pd.concat([X_test_num_type, OH_cols_test], axis=1)\n",
        "\n",
        "# Filling missing values\n",
        "imputer_median = SimpleImputer()\n",
        "OH_X_train = pd.DataFrame(imputer_median.fit_transform(OH_X_train))\n",
        "OH_X_test = pd.DataFrame(imputer_median.transform(OH_X_test))\n",
        "\n",
        "# Model\n",
        "model = RandomForestRegressor(n_estimators=100, random_state=0)\n",
        "model.fit(OH_X_train, y_train)\n",
        "\n",
        "# Save test predictions to file\n",
        "predict_price = model.predict(OH_X_test)\n",
        "output = pd.DataFrame({'Id': X_test.index,\n",
        "                       'SalePrice': predict_price})\n",
        "output.to_csv('submission.csv', index=False)"
      ],
      "execution_count": null,
      "outputs": []
    },
    {
      "cell_type": "markdown",
      "metadata": {
        "papermill": {
          "duration": 0.044976,
          "end_time": "2020-12-15T16:33:03.974388",
          "exception": false,
          "start_time": "2020-12-15T16:33:03.929412",
          "status": "completed"
        },
        "tags": [],
        "id": "0SpuoQj-SspN"
      },
      "source": [
        "# Keep going\n",
        "\n",
        "With missing value handling and categorical encoding, your modeling process is getting complex. This complexity gets worse when you want to save your model to use in the future. The key to managing this complexity is something called **pipelines**. \n",
        "\n",
        "**[Learn to use pipelines](https://www.kaggle.com/alexisbcook/pipelines)** to preprocess datasets with categorical variables, missing values and any other messiness your data throws at you."
      ]
    },
    {
      "cell_type": "markdown",
      "metadata": {
        "papermill": {
          "duration": 0.040792,
          "end_time": "2020-12-15T16:33:04.057378",
          "exception": false,
          "start_time": "2020-12-15T16:33:04.016586",
          "status": "completed"
        },
        "tags": [],
        "id": "JcgChJIpSspN"
      },
      "source": [
        "---\n",
        "\n",
        "\n",
        "\n",
        "\n",
        "*Have questions or comments? Visit the [Learn Discussion forum](https://www.kaggle.com/learn-forum/161289) to chat with other Learners.*"
      ]
    }
  ]
}