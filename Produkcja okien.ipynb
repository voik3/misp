!pip install pulp
!sudo apt-get install coinor-cbc glpk-utils coinor-clp

from pulp import *


ProdOkien = LpProblem("Okna", LpMaximize)

IlOkienAlu = LpVariable("LiczbaPartii_Okien_Aluminiowych", 0, None, LpInteger)
IlOkienDrew = LpVariable("LiczbaPartii_Okien_Drewnianych", 0, None, LpInteger)

ProdOkien += IlOkienAlu * 3000 + IlOkienDrew * 5000, "Liczb_partii_wszystkich_okien"

ProdOkien += IlOkienAlu * 1 <= 4, "Limit_fabryki 1"
ProdOkien += IlOkienDrew * 2 <= 12, "Limit_fabryki_2"
ProdOkien += IlOkienAlu * 3 + IlOkienDrew * 2 <= 18, "Limit_fabryki_3"

ProdOkien.solve()

print("Status: ", LpStatus[ProdOkien.status])
print("Tyle do wyprodukowania: ")
for zm in ProdOkien.variables():
    print(zm.varValue, zm.name[zm.name.index("_") + 1:])
	
ProdOkien = LpProblem("Okna", LpMaximize)

MaterialyOkien = ['DREWNO', 'ALUMINIUM']
Zysk = {
    'DREWNO':    5,
    'ALUMINIUM': 3
}
Fabr1 = {
    'DREWNO':    0,
    'ALUMINIUM': 1
}
Fabr2 = {
    'DREWNO':    2,
    'ALUMINIUM': 0
}
Fabr3 = {
    'DREWNO':    2,
    'ALUMINIUM': 3
}

WielkoscProd = LpVariable.dicts("IlePartiiMaterialu", MaterialyOkien, 0, None, LpInteger)

ProdOkien += lpSum([WielkoscProd[mat] * Zysk[mat] for mat in MaterialyOkien]), "Zysk"

ProdOkien += lpSum([Fabr1[mat] * WielkoscProd[mat] for mat in MaterialyOkien]) <= 4
ProdOkien += lpSum([Fabr2[mat] * WielkoscProd[mat] for mat in MaterialyOkien]) <= 12
ProdOkien += lpSum([Fabr3[mat] * WielkoscProd[mat] for mat in MaterialyOkien]) <= 18

ProdOkien.solve()

print("Status: ", LpStatus[ProdOkien.status])
print("Tyle do wyprodukowania: ")
for zm in ProdOkien.variables():
    print(zm.varValue, zm.name[zm.name.index("_") + 1:])
	
